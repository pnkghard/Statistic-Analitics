{
 "cells": [
  {
   "cell_type": "code",
   "execution_count": 19,
   "id": "530661b0",
   "metadata": {},
   "outputs": [],
   "source": [
    "data = [9,9,9,8,8,8,8,7,7,7,7,7,6,6,6,6,6,6,5,5]"
   ]
  },
  {
   "cell_type": "code",
   "execution_count": 38,
   "id": "6c918c5a",
   "metadata": {},
   "outputs": [
    {
     "name": "stdout",
     "output_type": "stream",
     "text": [
      "Mean :  7.0\n"
     ]
    }
   ],
   "source": [
    "mean = sum(data)/len(data)\n",
    "print(\"Mean : \", mean)"
   ]
  },
  {
   "cell_type": "code",
   "execution_count": 39,
   "id": "1f0665c4",
   "metadata": {},
   "outputs": [
    {
     "name": "stdout",
     "output_type": "stream",
     "text": [
      "Deviation from mean :  0.0\n"
     ]
    }
   ],
   "source": [
    "daviation_mean = sum((v-mean) for v in data)\n",
    "print(\"Deviation from mean : \", daviation_mean)"
   ]
  },
  {
   "cell_type": "code",
   "execution_count": 40,
   "id": "de5583b6",
   "metadata": {},
   "outputs": [
    {
     "name": "stdout",
     "output_type": "stream",
     "text": [
      "Squared Devition :  30.0\n"
     ]
    }
   ],
   "source": [
    "sqr_deviation = sum((v-mean)**2 for v in data)\n",
    "print(\"Squared Devition : \", sqr_deviation)"
   ]
  },
  {
   "cell_type": "code",
   "execution_count": 41,
   "id": "6febee72",
   "metadata": {},
   "outputs": [
    {
     "name": "stdout",
     "output_type": "stream",
     "text": [
      "Variance :  1.5\n"
     ]
    }
   ],
   "source": [
    "variance = sum((v-mean)**2 for v in data) / len(data)\n",
    "print(\"Variance : \", variance)"
   ]
  },
  {
   "cell_type": "code",
   "execution_count": 43,
   "id": "5249458f",
   "metadata": {},
   "outputs": [
    {
     "name": "stdout",
     "output_type": "stream",
     "text": [
      "Standard Deviation :  1.224744871391589\n"
     ]
    }
   ],
   "source": [
    "std_dev = variance**0.5\n",
    "print(\"Standard Deviation : \", std_dev)"
   ]
  },
  {
   "cell_type": "code",
   "execution_count": 44,
   "id": "9ffbde8a",
   "metadata": {},
   "outputs": [],
   "source": [
    "import numpy as np"
   ]
  },
  {
   "cell_type": "code",
   "execution_count": 45,
   "id": "15a320d8",
   "metadata": {},
   "outputs": [
    {
     "name": "stdout",
     "output_type": "stream",
     "text": [
      "Mean :  7.0\n",
      "Variance :  1.5\n",
      "Satndard Deviation :  1.224744871391589\n"
     ]
    }
   ],
   "source": [
    "print(\"Mean : \", np.mean(data))\n",
    "print(\"Variance : \", np.var(data))\n",
    "print(\"Satndard Deviation : \", np.std(data))"
   ]
  },
  {
   "cell_type": "code",
   "execution_count": null,
   "id": "46c2c489",
   "metadata": {},
   "outputs": [],
   "source": []
  }
 ],
 "metadata": {
  "kernelspec": {
   "display_name": "Python 3 (ipykernel)",
   "language": "python",
   "name": "python3"
  },
  "language_info": {
   "codemirror_mode": {
    "name": "ipython",
    "version": 3
   },
   "file_extension": ".py",
   "mimetype": "text/x-python",
   "name": "python",
   "nbconvert_exporter": "python",
   "pygments_lexer": "ipython3",
   "version": "3.9.13"
  }
 },
 "nbformat": 4,
 "nbformat_minor": 5
}
